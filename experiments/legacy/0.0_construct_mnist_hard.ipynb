{
 "cells": [
  {
   "cell_type": "code",
   "execution_count": null,
   "id": "0",
   "metadata": {},
   "outputs": [],
   "source": [
    "import os\n",
    "import numpy as np\n",
    "import matplotlib.pyplot as plt\n",
    "\n",
    "import torch\n",
    "import torch.nn as nn\n",
    "import torchvision\n",
    "import torchvision.transforms as transforms\n",
    "\n",
    "from pathlib import Path\n",
    "\n",
    "data_dir = \"../artifacts/data\""
   ]
  },
  {
   "cell_type": "code",
   "execution_count": null,
   "id": "1",
   "metadata": {},
   "outputs": [],
   "source": [
    "# Hyper-parameters \n",
    "input_size = 784\n",
    "num_classes = 10\n",
    "num_epochs = 50\n",
    "batch_size = 100\n",
    "learning_rate = 0.001"
   ]
  },
  {
   "cell_type": "code",
   "execution_count": null,
   "id": "2",
   "metadata": {},
   "outputs": [],
   "source": [
    "# Preprocess Data\n",
    "MNIST_train = torchvision.datasets.MNIST(data_dir, \n",
    "                                         train=True, \n",
    "                                         transform=transforms.ToTensor(),\n",
    "                                         download=True)\n",
    "MNIST_test = torchvision.datasets.MNIST(data_dir, \n",
    "                                        train=False, \n",
    "                                        transform=transforms.ToTensor(),\n",
    "                                        download=True)\n",
    "\n",
    "X = MNIST_train.data.reshape(-1, input_size)\n",
    "y = MNIST_train.targets"
   ]
  },
  {
   "cell_type": "code",
   "execution_count": null,
   "id": "3",
   "metadata": {},
   "outputs": [],
   "source": [
    "# Use sklearn logreg model\n",
    "from sklearn.linear_model import LogisticRegression\n",
    "clf = LogisticRegression(fit_intercept=True,\n",
    "                        solver='saga',\n",
    "                        max_iter=1000,\n",
    "                        verbose=2,\n",
    "                        n_jobs=5,\n",
    "                        tol=0.01 # Tolerance for Stopping Criteria - we can keep it quite high as we just want to capture the hardest samples\n",
    "                        )\n",
    "clf"
   ]
  },
  {
   "cell_type": "code",
   "execution_count": null,
   "id": "4",
   "metadata": {},
   "outputs": [],
   "source": [
    "# Fit the model (untill convergence)\n",
    "clf.fit(X, y)"
   ]
  },
  {
   "cell_type": "code",
   "execution_count": null,
   "id": "5",
   "metadata": {},
   "outputs": [],
   "source": [
    "# Sanity check - test on MNIST test\n",
    "X_test = MNIST_test.data.reshape(-1, input_size)\n",
    "y_test = MNIST_test.targets\n",
    "score = clf.score(X_test, y_test) # test score\n",
    "print(f\" The LogReg model got a test score of: {score}\")"
   ]
  },
  {
   "cell_type": "code",
   "execution_count": null,
   "id": "6",
   "metadata": {},
   "outputs": [],
   "source": [
    "# Find the hardest samples\n",
    "\n",
    "preds = clf.predict_proba(X)\n",
    "sample_losses = -np.log(preds[np.arange(len(y)), y]) # indexes the proba for the correct class to calculate log los\n",
    "\n",
    "# Find top %5 hardest per class\n",
    "hardest_per_class = {}\n",
    "for c in range(10):\n",
    "    class_indices = np.where(y == c)[0]\n",
    "    total = len(class_indices)\n",
    "    subset = round(0.05 * total)\n",
    "    print(f\"Finding the top {subset} hardest sample for the class {c}\")\n",
    "    sorted_idx = class_indices[np.argsort(sample_losses[class_indices])[::-1]]\n",
    "    hardest_per_class[c] = sorted_idx[:subset]  \n",
    "\n",
    "# Get the list of indicies\n",
    "hard_indices = np.concatenate(list(hardest_per_class.values()))\n",
    "all_indices = np.arange(len(y))\n",
    "mask = np.ones(len(y), dtype=bool)\n",
    "mask[hard_indices] = False\n",
    "complementary_indices = all_indices[mask]\n",
    "\n",
    "print(f\"Total samples: {len(y)}\")\n",
    "print(f\"Hard subset size: {len(hard_indices)}\")\n",
    "print(f\"Complementary subset size: {len(complementary_indices)}\")\n",
    "\n"
   ]
  },
  {
   "cell_type": "code",
   "execution_count": null,
   "id": "7",
   "metadata": {},
   "outputs": [],
   "source": [
    "def visualise_samples(dataset, indices, title):\n",
    "    n = len(indices)\n",
    "    fig, axes = plt.subplots(1, n, figsize=(n * 2, 2))\n",
    "    if n == 1:\n",
    "        axes = [axes]\n",
    "    for ax, idx in zip(axes, indices):\n",
    "        img, label = dataset[idx]\n",
    "        ax.imshow(img.squeeze(), cmap='gray')\n",
    "        ax.set_title(f\"Label {label}\\nIdx {idx}\")\n",
    "        ax.axis('off')\n",
    "    plt.suptitle(title)\n",
    "    plt.tight_layout()\n",
    "    plt.show()"
   ]
  },
  {
   "cell_type": "code",
   "execution_count": null,
   "id": "8",
   "metadata": {},
   "outputs": [],
   "source": [
    "i=4\n",
    "visualise_samples(MNIST_train, hardest_per_class[i][:10], f\"Hardest samples for class {i}'s:\")"
   ]
  },
  {
   "cell_type": "code",
   "execution_count": null,
   "id": "9",
   "metadata": {},
   "outputs": [],
   "source": [
    "# Save to disk\n",
    "np.save(os.path.join(data_dir, \"hard_indices.npy\"), hard_indices)\n",
    "np.save(os.path.join(data_dir, \"new_train_indices.npy\"), complementary_indices)"
   ]
  },
  {
   "cell_type": "markdown",
   "id": "10",
   "metadata": {},
   "source": [
    "Testing the colour map for MNIST"
   ]
  },
  {
   "cell_type": "code",
   "execution_count": null,
   "id": "11",
   "metadata": {},
   "outputs": [],
   "source": [
    "COLOUR_MAP = {\n",
    "            0: ('red',     [1.0, 0.2, 0.2]),\n",
    "            1: ('green',   [0.2, 1.0, 0.2]),\n",
    "            2: ('blue',    [0.2, 0.2, 1.0]),\n",
    "            3: ('yellow',  [1.0, 1.0, 0.2]),\n",
    "            4: ('cyan',    [0.2, 1.0, 1.0]),\n",
    "            5: ('magenta', [1.0, 0.2, 1.0]),\n",
    "            6: ('orange',  [1.0, 0.6, 0.2]),\n",
    "            7: ('purple',  [0.6, 0.2, 1.0]),\n",
    "            8: ('lime',    [0.6, 1.0, 0.2]),\n",
    "            9: ('brown',   [0.6, 0.4, 0.2])\n",
    "        }"
   ]
  },
  {
   "cell_type": "code",
   "execution_count": null,
   "id": "12",
   "metadata": {},
   "outputs": [],
   "source": [
    "import numpy as np\n",
    "from ipywidgets import FloatSlider, interact\n",
    "\n",
    "import plotly.graph_objects as go\n",
    "\n",
    "fig = go.Figure()\n",
    "\n",
    "# Add base color points\n",
    "for label, (name, vec) in COLOUR_MAP.items():\n",
    "    fig.add_trace(go.Scatter3d(\n",
    "        x=[vec[0]], y=[vec[1]], z=[vec[2]],\n",
    "        mode='markers+text',\n",
    "        marker=dict(size=8, color=[f'rgb({vec[0]*255},{vec[1]*255},{vec[2]*255})']),\n",
    "        text=[f\"{label}\"],\n",
    "        textposition=\"top center\",\n",
    "        name=name\n",
    "    ))\n",
    "\n",
    "def add_noise_spheres(noise):\n",
    "    fig.data = fig.data[:len(COLOUR_MAP)]\n",
    "\n",
    "    u = np.linspace(0, 2 * np.pi, 30)\n",
    "    v = np.linspace(0, np.pi, 30)\n",
    "\n",
    "    for label, (name, vec) in COLOUR_MAP.items():\n",
    "        x = vec[0] + noise * np.outer(np.cos(u), np.sin(v))\n",
    "        y = vec[1] + noise * np.outer(np.sin(u), np.sin(v))\n",
    "        z = vec[2] + noise * np.outer(np.ones_like(u), np.cos(v))\n",
    "\n",
    "        fig.add_trace(go.Surface(\n",
    "            x=x, y=y, z=z,\n",
    "            showscale=False,\n",
    "            opacity=0.2,\n",
    "            colorscale=[[0, f'rgb({vec[0]*255},{vec[1]*255},{vec[2]*255})'],\n",
    "                        [1, f'rgb({vec[0]*255},{vec[1]*255},{vec[2]*255})']],\n",
    "            name=f\"{name} noise\"\n",
    "        ))\n",
    "    fig.update_layout(title=f\"Noise = {noise:.2f}\")\n",
    "\n",
    "std = 0.07\n",
    "slider = FloatSlider(value=std*3, min=0.05, max=1.0, step=0.05, description='Noise')\n",
    "interact(add_noise_spheres, noise=slider)\n",
    "\n",
    "fig.update_layout(\n",
    "    scene=dict(\n",
    "        xaxis_title='R',\n",
    "        yaxis_title='G',\n",
    "        zaxis_title='B'\n",
    "    ),\n",
    "    title='COLOUR_MAP in RGB 3D Space with Noise Spheres'\n",
    ")\n",
    "\n",
    "\n",
    "fig.show()\n"
   ]
  }
 ],
 "metadata": {
  "kernelspec": {
   "display_name": "critical-learning-period-effect",
   "language": "python",
   "name": "python3"
  },
  "language_info": {
   "codemirror_mode": {
    "name": "ipython",
    "version": 3
   },
   "file_extension": ".py",
   "mimetype": "text/x-python",
   "name": "python",
   "nbconvert_exporter": "python",
   "pygments_lexer": "ipython3",
   "version": "3.11.13"
  }
 },
 "nbformat": 4,
 "nbformat_minor": 5
}
