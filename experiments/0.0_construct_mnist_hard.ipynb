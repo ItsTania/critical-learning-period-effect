{
 "cells": [
  {
   "cell_type": "code",
   "execution_count": null,
   "id": "0",
   "metadata": {},
   "outputs": [],
   "source": [
    "import os\n",
    "import numpy as np\n",
    "import matplotlib.pyplot as plt\n",
    "\n",
    "import torch\n",
    "import torch.nn as nn\n",
    "import torchvision\n",
    "import torchvision.transforms as transforms\n",
    "\n",
    "from pathlib import Path\n",
    "\n",
    "data_dir = \"../artifacts/data\""
   ]
  },
  {
   "cell_type": "code",
   "execution_count": null,
   "id": "1",
   "metadata": {},
   "outputs": [],
   "source": [
    "# Hyper-parameters \n",
    "input_size = 784\n",
    "num_classes = 10\n",
    "num_epochs = 50\n",
    "batch_size = 100\n",
    "learning_rate = 0.001"
   ]
  },
  {
   "cell_type": "code",
   "execution_count": null,
   "id": "2",
   "metadata": {},
   "outputs": [],
   "source": [
    "# Preprocess Data\n",
    "MNIST_train = torchvision.datasets.MNIST(data_dir, \n",
    "                                         train=True, \n",
    "                                         transform=transforms.ToTensor(),\n",
    "                                         download=True)\n",
    "MNIST_test = torchvision.datasets.MNIST(data_dir, \n",
    "                                        train=False, \n",
    "                                        transform=transforms.ToTensor(),\n",
    "                                        download=True)\n",
    "\n",
    "X = MNIST_train.data.reshape(-1, input_size)\n",
    "y = MNIST_train.targets"
   ]
  },
  {
   "cell_type": "code",
   "execution_count": null,
   "id": "3",
   "metadata": {},
   "outputs": [],
   "source": [
    "# Use sklearn logreg model\n",
    "from sklearn.linear_model import LogisticRegression\n",
    "clf = LogisticRegression(fit_intercept=True,\n",
    "                        solver='saga',\n",
    "                        max_iter=1000,\n",
    "                        verbose=2,\n",
    "                        n_jobs=5,\n",
    "                        tol=0.01 # Tolerance for Stopping Criteria - we can keep it quite high as we just want to capture the hardest samples\n",
    "                        )\n",
    "clf"
   ]
  },
  {
   "cell_type": "code",
   "execution_count": null,
   "id": "4",
   "metadata": {},
   "outputs": [],
   "source": [
    "# Fit the model (untill convergence)\n",
    "clf.fit(X, y)"
   ]
  },
  {
   "cell_type": "code",
   "execution_count": null,
   "id": "5",
   "metadata": {},
   "outputs": [],
   "source": [
    "# Sanity check - test on MNIST test\n",
    "X_test = MNIST_test.data.reshape(-1, input_size)\n",
    "y_test = MNIST_test.targets\n",
    "score = clf.score(X_test, y_test) # test score\n",
    "print(f\" The LogReg model got a test score of: {score}\")"
   ]
  },
  {
   "cell_type": "code",
   "execution_count": null,
   "id": "6",
   "metadata": {},
   "outputs": [],
   "source": [
    "# Find the hardest samples\n",
    "\n",
    "preds = clf.predict_proba(X)\n",
    "sample_losses = -np.log(preds[np.arange(len(y)), y]) # indexes the proba for the correct class to calculate log los\n",
    "\n",
    "# Find top %5 hardest per class\n",
    "hardest_per_class = {}\n",
    "for c in range(10):\n",
    "    class_indices = np.where(y == c)[0]\n",
    "    total = len(class_indices)\n",
    "    subset = round(0.05 * total)\n",
    "    print(f\"Finding the top {subset} hardest sample for the class {c}\")\n",
    "    sorted_idx = class_indices[np.argsort(sample_losses[class_indices])[::-1]]\n",
    "    hardest_per_class[c] = sorted_idx[:subset]  \n",
    "\n",
    "# Get the list of indicies\n",
    "hard_indices = np.concatenate(list(hardest_per_class.values()))\n",
    "all_indices = np.arange(len(y))\n",
    "mask = np.ones(len(y), dtype=bool)\n",
    "mask[hard_indices] = False\n",
    "complementary_indices = all_indices[mask]\n",
    "\n",
    "print(f\"Total samples: {len(y)}\")\n",
    "print(f\"Hard subset size: {len(hard_indices)}\")\n",
    "print(f\"Complementary subset size: {len(complementary_indices)}\")\n",
    "\n"
   ]
  },
  {
   "cell_type": "code",
   "execution_count": null,
   "id": "7",
   "metadata": {},
   "outputs": [],
   "source": [
    "def visualise_samples(dataset, indices, title):\n",
    "    n = len(indices)\n",
    "    fig, axes = plt.subplots(1, n, figsize=(n * 2, 2))\n",
    "    if n == 1:\n",
    "        axes = [axes]\n",
    "    for ax, idx in zip(axes, indices):\n",
    "        img, label = dataset[idx]\n",
    "        ax.imshow(img.squeeze(), cmap='gray')\n",
    "        ax.set_title(f\"Label {label}\\nIdx {idx}\")\n",
    "        ax.axis('off')\n",
    "    plt.suptitle(title)\n",
    "    plt.tight_layout()\n",
    "    plt.show()"
   ]
  },
  {
   "cell_type": "code",
   "execution_count": null,
   "id": "8",
   "metadata": {},
   "outputs": [],
   "source": [
    "i=4\n",
    "visualise_samples(MNIST_train, hardest_per_class[i][:10], f\"Hardest samples for class {i}'s:\")"
   ]
  },
  {
   "cell_type": "code",
   "execution_count": null,
   "id": "9",
   "metadata": {},
   "outputs": [],
   "source": [
    "# Save to disk\n",
    "np.save(os.path.join(data_dir, \"hard_indices.npy\"), hard_indices)\n",
    "np.save(os.path.join(data_dir, \"new_train_indices.npy\"), complementary_indices)"
   ]
  }
 ],
 "metadata": {
  "kernelspec": {
   "display_name": "critical-learning-period-effect",
   "language": "python",
   "name": "python3"
  },
  "language_info": {
   "codemirror_mode": {
    "name": "ipython",
    "version": 3
   },
   "file_extension": ".py",
   "mimetype": "text/x-python",
   "name": "python",
   "nbconvert_exporter": "python",
   "pygments_lexer": "ipython3",
   "version": "3.11.13"
  }
 },
 "nbformat": 4,
 "nbformat_minor": 5
}
