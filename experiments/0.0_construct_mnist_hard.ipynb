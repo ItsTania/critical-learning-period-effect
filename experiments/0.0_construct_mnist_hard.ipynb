{
 "cells": [
  {
   "cell_type": "code",
   "execution_count": null,
   "id": "0",
   "metadata": {},
   "outputs": [],
   "source": [
    "import torch\n",
    "import torch.nn as nn\n",
    "import torchvision\n",
    "import torchvision.transforms as transforms\n",
    "\n",
    "from pathlib import Path\n",
    "\n",
    "data_dir = \"../artifacts/data\""
   ]
  },
  {
   "cell_type": "code",
   "execution_count": null,
   "id": "1",
   "metadata": {},
   "outputs": [],
   "source": [
    "# Hyper-parameters \n",
    "input_size = 784\n",
    "num_classes = 10\n",
    "num_epochs = 50\n",
    "batch_size = 100\n",
    "learning_rate = 0.001"
   ]
  },
  {
   "cell_type": "code",
   "execution_count": null,
   "id": "2",
   "metadata": {},
   "outputs": [],
   "source": [
    "# Preprocess Data\n",
    "MNIST_train = torchvision.datasets.MNIST(data_dir, \n",
    "                                         train=True, \n",
    "                                         transform=transforms.ToTensor(),\n",
    "                                         download=True)\n",
    "MNIST_test = torchvision.datasets.MNIST(data_dir, \n",
    "                                        train=False, \n",
    "                                        transform=transforms.ToTensor(),\n",
    "                                        download=True)\n",
    "\n",
    "X = MNIST_train.data.reshape(-1, input_size)\n",
    "y = MNIST_train.targets"
   ]
  },
  {
   "cell_type": "code",
   "execution_count": null,
   "id": "3",
   "metadata": {},
   "outputs": [],
   "source": [
    "# Use sklearn logreg model\n",
    "from sklearn.linear_model import LogisticRegression\n",
    "clf = LogisticRegression(fit_intercept=True,\n",
    "                        solver='saga',\n",
    "                        max_iter=1000,\n",
    "                        verbose=2,\n",
    "                        n_jobs=5,\n",
    "                        tol=0.01 # Tolerance for Stopping Criteria - we can keep it quite high as we just want to capture the hardest samples\n",
    "                        )\n",
    "clf"
   ]
  },
  {
   "cell_type": "code",
   "execution_count": null,
   "id": "4",
   "metadata": {},
   "outputs": [],
   "source": [
    "# Fit the model (untill convergence)\n",
    "clf.fit(X, y)"
   ]
  },
  {
   "cell_type": "code",
   "execution_count": null,
   "id": "5",
   "metadata": {},
   "outputs": [],
   "source": [
    "# Sanity check - test on MNIST test\n",
    "X_test = MNIST_test.data.reshape(-1, input_size)\n",
    "y_test = MNIST_test.targets\n",
    "score = clf.score(X_test, y_test) # test score\n",
    "score"
   ]
  },
  {
   "cell_type": "code",
   "execution_count": null,
   "id": "6",
   "metadata": {},
   "outputs": [],
   "source": [
    "# Find the hardest samples\n",
    "# Compute per-sample loss (hardness)\n",
    "probs = clf.predict_proba(X)\n",
    "sample_losses = -np.log(probs[np.arange(len(y)), y])\n",
    "\n",
    "# Find top 100 hardest per class\n",
    "hardest_per_class = {}\n",
    "for c in range(10):\n",
    "    class_indices = np.where(y == c)[0]\n",
    "    sorted_idx = class_indices[np.argsort(sample_losses[class_indices])[::-1]]\n",
    "    hardest_per_class[c] = sorted_idx[:100]  # top 100 hardest\n",
    "\n",
    "# Example: hardest indices for class 3\n",
    "print(\"Hardest samples for class 3:\", hardest_per_class[3][:10])"
   ]
  },
  {
   "cell_type": "code",
   "execution_count": null,
   "id": "7",
   "metadata": {},
   "outputs": [],
   "source": [
    "# Visualise"
   ]
  }
 ],
 "metadata": {
  "kernelspec": {
   "display_name": "critical-learning-period-effect",
   "language": "python",
   "name": "python3"
  },
  "language_info": {
   "codemirror_mode": {
    "name": "ipython",
    "version": 3
   },
   "file_extension": ".py",
   "mimetype": "text/x-python",
   "name": "python",
   "nbconvert_exporter": "python",
   "pygments_lexer": "ipython3",
   "version": "3.11.13"
  }
 },
 "nbformat": 4,
 "nbformat_minor": 5
}
